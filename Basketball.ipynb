{
 "cells": [
  {
   "cell_type": "markdown",
   "metadata": {},
   "source": [
    "# Basketball challenge"
   ]
  },
  {
   "cell_type": "code",
   "execution_count": null,
   "metadata": {
    "scrolled": false
   },
   "outputs": [],
   "source": [
    "from IPython.display import display, clear_output\n",
    "import ipywidgets as widgets\n",
    "import serialize\n",
    "import numpy as np\n",
    "import seaborn as sns\n",
    "import pandas as pd\n",
    "import matplotlib.pyplot as plt\n",
    "\n",
    "\n",
    "results_files_name = serialize.get_all_results_names()\n",
    "results_files_name.reverse()\n",
    "out = widgets.Output()\n",
    "\n",
    "w = widgets.Dropdown(\n",
    "    options=results_files_name,\n",
    "    description='Result',\n",
    ")\n",
    "def update(filename):\n",
    "    data_from_csv = pd.read_csv(filename)\n",
    "    f,ax1 = plt.subplots(figsize =(15,10))\n",
    "    plt.title('Train/Test Performance',fontsize = 20,color='blue')\n",
    "    #plt.text(0,0,'Train',color='blue',fontsize = 18)\n",
    "    #plt.text(0,0,'Test',color='red',fontsize = 18)\n",
    "    sns.pointplot(x='epochs',y='trainloss', data=data_from_csv)\n",
    "    ax = sns.pointplot(x='epochs',y='testloss', color='red',data=data_from_csv)\n",
    "    for x,y,correct,total in zip(data_from_csv['epochs'],data_from_csv['testloss'],data_from_csv['correct'],data_from_csv['test']):\n",
    "        #change f'{z:.2f}' to str(z) if you want something simpler\n",
    "        ax.text(x-1,y+0.01,f'{(correct/total)*100:.2f}%',horizontalalignment='center',color='red',weight='light')\n",
    "    plt.xlabel('Epocs',fontsize = 15,color='blue')\n",
    "    plt.ylabel('Loss',fontsize = 15,color='blue')\n",
    "    display(w)\n",
    "    out\n",
    "\n",
    "def on_change(change):\n",
    "    if change['name'] == 'value' and (change['new'] != change['old']):\n",
    "        clear_output()\n",
    "        update(change['new'])\n",
    "\n",
    "w.observe(on_change)\n",
    "update(results_files_name[0])\n"
   ]
  },
  {
   "cell_type": "markdown",
   "metadata": {},
   "source": [
    "# Variables"
   ]
  },
  {
   "cell_type": "code",
   "execution_count": null,
   "metadata": {},
   "outputs": [],
   "source": [
    "%reload_ext autoreload\n",
    "%autoreload 2\n",
    "import Basketball\n",
    "\n",
    "data = 'data'\n",
    "data48x48 = 'cache'\n",
    "num_frames = 96\n",
    "split = 'training'\n",
    "EPOCHS = 50\n",
    "optics = 'optics'\n",
    "dp = Basketball.Basketball(data, width=128, height=128,  num_frames=num_frames, split=split)"
   ]
  },
  {
   "cell_type": "code",
   "execution_count": null,
   "metadata": {},
   "outputs": [],
   "source": [
    "#dp.run('FFNN', testeverytrain=True, EPOCHS=EPOCHS)\n",
    "#dp.run('CNN3D', testeverytrain=True, EPOCHS=EPOCHS)\n",
    "dp.run('CNN2DLSTM', testeverytrain=True, EPOCHS=EPOCHS)\n",
    "#dp.run('OPTICALCONV3D', testeverytrain=True, EPOCHS=EPOCHS, opticalpath=of_save_path)"
   ]
  },
  {
   "cell_type": "code",
   "execution_count": null,
   "metadata": {},
   "outputs": [],
   "source": [
    "#dp.run('FFNN', testeverytrain=True, EPOCHS=EPOCHS)\n",
    "#dp.run('CNN3D', testeverytrain=True, EPOCHS=EPOCHS)\n",
    "#dp.run('CNN2DLSTM', testeverytrain=True, EPOCHS=EPOCHS, lr=0.001, ADAm, momentum=0.9)\n",
    "dp.run('OPTICALCONV3D', testeverytrain=True, EPOCHS=EPOCHS)"
   ]
  },
  {
   "cell_type": "markdown",
   "metadata": {},
   "source": [
    "# Plot "
   ]
  },
  {
   "cell_type": "code",
   "execution_count": null,
   "metadata": {},
   "outputs": [],
   "source": [
    "#%matplotlib inline\n",
    "#from IPython import display\n",
    "#import torchvision.transforms.functional as F\n",
    "#for batch, target in trainset:\n",
    "#    print(\"here is the \",target)\n",
    "#    view1 = batch[0]\n",
    "#    for idx, img in enumerate(view1):\n",
    "#        img1 = F.to_pil_image(img)\n",
    "#        display.clear_output(wait=True)\n",
    "#        display.display(img1.resize((320,240)), Image.NEAREST)\n",
    "#    break"
   ]
  },
  {
   "cell_type": "markdown",
   "metadata": {},
   "source": [
    "# Display Video"
   ]
  },
  {
   "cell_type": "code",
   "execution_count": null,
   "metadata": {
    "scrolled": true
   },
   "outputs": [],
   "source": [
    "#from IPython import display\n",
    "#import torchvision.transforms.functional as F\n",
    "#sets = DataLoader(dataset)\n",
    "#for bath, target in sets:\n",
    "#    print(\"here is the \",target)\n",
    "#    view1 = batch[0][0]\n",
    "#    for idx, img in enumerate(view1):\n",
    "#        img1 = F.to_pil_image(img)\n",
    "#        display.display(img1.resize((320,240)), Image.NEAREST)\n",
    "#        display.clear_output(wait=True)\n",
    "#    break"
   ]
  },
  {
   "cell_type": "markdown",
   "metadata": {},
   "source": [
    "# Models"
   ]
  },
  {
   "cell_type": "markdown",
   "metadata": {},
   "source": [
    "Initialize weights\n",
    "image preprocessing\n",
    "normalizing the inputs\n",
    "regularizations\n",
    "\n",
    "inceptio v4\n",
    "inceptionv4\n",
    "resnet 101\n",
    "resnet 152\n",
    "\n",
    "1x1 convolution\n",
    "\n",
    "efficient architectures\n",
    "How do we obtain networks that are computationally and memory efficient\n",
    "enough to run on mobile devices, possibly with limited power supply?\n",
    "\n",
    "Width multiplier:\n",
    "Reduce the number of channels in each layer. This has been\n",
    "called width multiplier in „MobileNets: Efficient Convolutional Neural Networks\n",
    "for Mobile Vision Applications“.\n",
    "What is the effect on the computational complexity and on the parameters?\n",
    "\n",
    "resolution multiplier \n",
    "Reduce the resolution of the input image. This has been called\n",
    "resolution multiplier in „MobileNets: Efficient Convolutional Neural Networks for\n",
    "Mobile Vision Applications“.\n",
    "\n",
    "\n",
    "\n",
    "\n",
    "Direct approach\n",
    "Model based approach\n",
    "Model and learning-based approach\n",
    "\n",
    "https://paperswithcode.com/paper/quo-vadis-action-recognition-a-new-model-and\n",
    "\n",
    "1. [Implemented] Feed Forward Neural Network (FFNN)\n",
    "View 1 and View 2 are concatenated side by side at first and each of the samples are then also concatenated. In this way a vector \n",
    "is formed which is then feed to the Feed Forward Neural Network(FFNN). Other variation could be going deep with multiple hidden layers\n",
    "2. CNN2  [Implemented]\n",
    "    view1->conv3d\n",
    "    view2->conv3d-------------> these are somehow combined and \n",
    "    optical(view1) -> conv3d--> flatted to predict 2 classes\n",
    "    optical(view2) -> conv3d\n",
    "3. CNN3 [Implemented] (use LTSM) -> https://github.com/HHTseng/video-classification\n",
    "    encode each frame with conv2d and send the output to be decoded to a lstm\n",
    "4. CNN4 [Implemented]\n",
    "    view1 and view2 and concatinated side by side and feed through the conv3d and flattened feed through linear layer"
   ]
  },
  {
   "cell_type": "markdown",
   "metadata": {},
   "source": [
    "Regularization: Adding a term to a loss function that penalizes for high weights. It tradies in some of the ability to fit the training data well for the ability to have a model generalize better to the data it has not seen before.\n",
    "E(Theta) = Sum of all inputs((target - input) ** 2 ) + (lamda/2*m) * weights**2"
   ]
  },
  {
   "cell_type": "markdown",
   "metadata": {},
   "source": [
    "Generalization:\n",
    "    It is a technique to ensure that architecture as well as the training data are chosen in such as way that the network makes a good prediction during training.\n",
    "    1. Validate: Without validation it is impossible to judge whether my model is reasonable or starts overfitting the data. \n",
    "    2. Agumentation.\n",
    "    3. Ensemble learning\n",
    "    4. Dropout\n",
    "    5. Regularization with a penalty\n",
    "    6. Data augmentation\n",
    "    7. Early stopping"
   ]
  }
 ],
 "metadata": {
  "kernelspec": {
   "display_name": "Python 3",
   "language": "python",
   "name": "python3"
  },
  "language_info": {
   "codemirror_mode": {
    "name": "ipython",
    "version": 3
   },
   "file_extension": ".py",
   "mimetype": "text/x-python",
   "name": "python",
   "nbconvert_exporter": "python",
   "pygments_lexer": "ipython3",
   "version": "3.7.4"
  }
 },
 "nbformat": 4,
 "nbformat_minor": 2
}
