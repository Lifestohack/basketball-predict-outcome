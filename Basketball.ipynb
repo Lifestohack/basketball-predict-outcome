{
 "cells": [
  {
   "cell_type": "markdown",
   "metadata": {},
   "source": [
    "# Basketball challenge"
   ]
  },
  {
   "cell_type": "code",
   "execution_count": 1,
   "metadata": {},
   "outputs": [],
   "source": [
    "from PIL import Image\n",
    "import torch\n",
    "import torchvision\n",
    "from Dataset import Basketball\n",
    "from Dataprocess import Preprocess\n",
    "%load_ext autoreload"
   ]
  },
  {
   "cell_type": "markdown",
   "metadata": {},
   "source": [
    "# Image transformation"
   ]
  },
  {
   "cell_type": "code",
   "execution_count": 2,
   "metadata": {},
   "outputs": [],
   "source": [
    "img_transformation = torchvision.transforms.Compose([\n",
    "    torchvision.transforms.Resize((64,48)),\n",
    "    torchvision.transforms.CenterCrop((48,48)),\n",
    "    torchvision.transforms.ToTensor()\n",
    "])"
   ]
  },
  {
   "cell_type": "markdown",
   "metadata": {},
   "source": [
    "\n",
    "# Preprocessing Dataset"
   ]
  },
  {
   "cell_type": "code",
   "execution_count": 3,
   "metadata": {},
   "outputs": [],
   "source": [
    "dataprocess = Preprocess().background_subtractor"
   ]
  },
  {
   "cell_type": "markdown",
   "metadata": {},
   "source": [
    "# Loading Dataset"
   ]
  },
  {
   "cell_type": "code",
   "execution_count": 4,
   "metadata": {},
   "outputs": [],
   "source": [
    "path = \"data\"\n",
    "training_data = Basketball(path, split='training', num_frame = 100, img_transform = img_transformation, dataprocess=dataprocess)"
   ]
  },
  {
   "cell_type": "markdown",
   "metadata": {},
   "source": [
    "# Display Video"
   ]
  },
  {
   "cell_type": "code",
   "execution_count": null,
   "metadata": {},
   "outputs": [],
   "source": [
    "view1 = training_data.__getitem__(0)[1]"
   ]
  },
  {
   "cell_type": "code",
   "execution_count": null,
   "metadata": {
    "scrolled": true
   },
   "outputs": [],
   "source": [
    "from IPython import display\n",
    "import torchvision.transforms.functional as F\n",
    "\n",
    "for index in range(1):\n",
    "    view1 = training_data.__getitem__(index)[0]\n",
    "    for idx, img in enumerate(view1):\n",
    "        img1 = F.to_pil_image(img)\n",
    "        display.display(img1.resize((320,240)), Image.NEAREST)\n",
    "        display.clear_output(wait=True)"
   ]
  },
  {
   "cell_type": "markdown",
   "metadata": {},
   "source": [
    "# Linear Model"
   ]
  },
  {
   "cell_type": "code",
   "execution_count": 5,
   "metadata": {},
   "outputs": [],
   "source": [
    "variables = training_data[0][0].numel()"
   ]
  },
  {
   "cell_type": "code",
   "execution_count": 6,
   "metadata": {},
   "outputs": [],
   "source": [
    "model = torch.nn.Linear(variables , 2)\n",
    "optimizer = torch.optim.SGD(model.parameters(),lr=0.001,momentum=0.4, nesterov=True)\n",
    "loss_fn = torch.nn.CrossEntropyLoss().cuda()\n",
    "model = model.cuda()"
   ]
  },
  {
   "cell_type": "code",
   "execution_count": 31,
   "metadata": {},
   "outputs": [
    {
     "name": "stdout",
     "output_type": "stream",
     "text": [
      "0   tensor(0.6861, device='cuda:0', grad_fn=<NllLossBackward>)\n",
      "1   tensor(0.6973, device='cuda:0', grad_fn=<NllLossBackward>)\n",
      "2   tensor(0.6914, device='cuda:0', grad_fn=<NllLossBackward>)\n",
      "3   tensor(0.6973, device='cuda:0', grad_fn=<NllLossBackward>)\n",
      "4   tensor(0.6908, device='cuda:0', grad_fn=<NllLossBackward>)\n",
      "5   tensor(0.7010, device='cuda:0', grad_fn=<NllLossBackward>)\n",
      "6   tensor(0.6997, device='cuda:0', grad_fn=<NllLossBackward>)\n",
      "7   tensor(0.7002, device='cuda:0', grad_fn=<NllLossBackward>)\n",
      "8   tensor(0.7036, device='cuda:0', grad_fn=<NllLossBackward>)\n",
      "9   tensor(0.6913, device='cuda:0', grad_fn=<NllLossBackward>)\n",
      "10   tensor(0.7111, device='cuda:0', grad_fn=<NllLossBackward>)\n",
      "11   tensor(0.7109, device='cuda:0', grad_fn=<NllLossBackward>)\n",
      "12   tensor(0.7020, device='cuda:0', grad_fn=<NllLossBackward>)\n",
      "13   tensor(0.6930, device='cuda:0', grad_fn=<NllLossBackward>)\n",
      "14   tensor(0.7037, device='cuda:0', grad_fn=<NllLossBackward>)\n",
      "15   tensor(0.6936, device='cuda:0', grad_fn=<NllLossBackward>)\n",
      "16   tensor(0.6975, device='cuda:0', grad_fn=<NllLossBackward>)\n",
      "17   tensor(0.6988, device='cuda:0', grad_fn=<NllLossBackward>)\n",
      "18   tensor(0.7123, device='cuda:0', grad_fn=<NllLossBackward>)\n",
      "19   tensor(0.6935, device='cuda:0', grad_fn=<NllLossBackward>)\n",
      "20   tensor(0.6985, device='cuda:0', grad_fn=<NllLossBackward>)\n",
      "21   tensor(0.7045, device='cuda:0', grad_fn=<NllLossBackward>)\n",
      "22   tensor(0.6912, device='cuda:0', grad_fn=<NllLossBackward>)\n",
      "23   tensor(0.6974, device='cuda:0', grad_fn=<NllLossBackward>)\n",
      "24   tensor(0.6956, device='cuda:0', grad_fn=<NllLossBackward>)\n",
      "25   tensor(0.6963, device='cuda:0', grad_fn=<NllLossBackward>)\n",
      "26   tensor(0.6983, device='cuda:0', grad_fn=<NllLossBackward>)\n",
      "27   tensor(0.7058, device='cuda:0', grad_fn=<NllLossBackward>)\n",
      "28   tensor(0.7217, device='cuda:0', grad_fn=<NllLossBackward>)\n",
      "29   tensor(0.6806, device='cuda:0', grad_fn=<NllLossBackward>)\n",
      "30   tensor(0.6899, device='cuda:0', grad_fn=<NllLossBackward>)\n",
      "31   tensor(0.6992, device='cuda:0', grad_fn=<NllLossBackward>)\n",
      "32   tensor(0.6914, device='cuda:0', grad_fn=<NllLossBackward>)\n",
      "33   tensor(0.7101, device='cuda:0', grad_fn=<NllLossBackward>)\n",
      "34   tensor(0.7027, device='cuda:0', grad_fn=<NllLossBackward>)\n",
      "35   tensor(0.7120, device='cuda:0', grad_fn=<NllLossBackward>)\n",
      "36   tensor(0.6816, device='cuda:0', grad_fn=<NllLossBackward>)\n",
      "37   tensor(0.6879, device='cuda:0', grad_fn=<NllLossBackward>)\n",
      "38   tensor(0.7022, device='cuda:0', grad_fn=<NllLossBackward>)\n",
      "39   tensor(0.6913, device='cuda:0', grad_fn=<NllLossBackward>)\n",
      "40   tensor(0.7139, device='cuda:0', grad_fn=<NllLossBackward>)\n",
      "41   tensor(0.6905, device='cuda:0', grad_fn=<NllLossBackward>)\n",
      "42   tensor(0.6774, device='cuda:0', grad_fn=<NllLossBackward>)\n",
      "43   tensor(0.6773, device='cuda:0', grad_fn=<NllLossBackward>)\n",
      "44   tensor(0.6840, device='cuda:0', grad_fn=<NllLossBackward>)\n",
      "45   tensor(0.7079, device='cuda:0', grad_fn=<NllLossBackward>)\n",
      "46   tensor(0.6801, device='cuda:0', grad_fn=<NllLossBackward>)\n",
      "47   tensor(0.6895, device='cuda:0', grad_fn=<NllLossBackward>)\n",
      "48   tensor(0.7010, device='cuda:0', grad_fn=<NllLossBackward>)\n",
      "49   tensor(0.6685, device='cuda:0', grad_fn=<NllLossBackward>)\n",
      "50   tensor(0.6936, device='cuda:0', grad_fn=<NllLossBackward>)\n",
      "51   tensor(0.7077, device='cuda:0', grad_fn=<NllLossBackward>)\n",
      "52   tensor(0.6809, device='cuda:0', grad_fn=<NllLossBackward>)\n",
      "53   tensor(0.6797, device='cuda:0', grad_fn=<NllLossBackward>)\n",
      "54   tensor(0.6896, device='cuda:0', grad_fn=<NllLossBackward>)\n",
      "55   tensor(0.6850, device='cuda:0', grad_fn=<NllLossBackward>)\n",
      "56   tensor(0.6879, device='cuda:0', grad_fn=<NllLossBackward>)\n",
      "57   tensor(0.7024, device='cuda:0', grad_fn=<NllLossBackward>)\n",
      "58   tensor(0.6835, device='cuda:0', grad_fn=<NllLossBackward>)\n",
      "59   tensor(0.6830, device='cuda:0', grad_fn=<NllLossBackward>)\n",
      "60   tensor(0.6982, device='cuda:0', grad_fn=<NllLossBackward>)\n",
      "61   tensor(0.6867, device='cuda:0', grad_fn=<NllLossBackward>)\n",
      "62   tensor(0.6861, device='cuda:0', grad_fn=<NllLossBackward>)\n",
      "63   tensor(0.6933, device='cuda:0', grad_fn=<NllLossBackward>)\n",
      "64   tensor(0.6772, device='cuda:0', grad_fn=<NllLossBackward>)\n",
      "65   tensor(0.7103, device='cuda:0', grad_fn=<NllLossBackward>)\n",
      "66   tensor(0.6860, device='cuda:0', grad_fn=<NllLossBackward>)\n",
      "67   tensor(0.6889, device='cuda:0', grad_fn=<NllLossBackward>)\n",
      "68   tensor(0.7228, device='cuda:0', grad_fn=<NllLossBackward>)\n",
      "69   tensor(0.7006, device='cuda:0', grad_fn=<NllLossBackward>)\n",
      "70   tensor(0.6865, device='cuda:0', grad_fn=<NllLossBackward>)\n",
      "71   tensor(0.6827, device='cuda:0', grad_fn=<NllLossBackward>)\n",
      "72   tensor(0.6932, device='cuda:0', grad_fn=<NllLossBackward>)\n",
      "73   tensor(0.6877, device='cuda:0', grad_fn=<NllLossBackward>)\n",
      "74   tensor(0.6980, device='cuda:0', grad_fn=<NllLossBackward>)\n",
      "75   tensor(0.6765, device='cuda:0', grad_fn=<NllLossBackward>)\n",
      "76   tensor(0.6975, device='cuda:0', grad_fn=<NllLossBackward>)\n",
      "77   tensor(0.6827, device='cuda:0', grad_fn=<NllLossBackward>)\n",
      "78   tensor(0.7044, device='cuda:0', grad_fn=<NllLossBackward>)\n",
      "79   tensor(0.7037, device='cuda:0', grad_fn=<NllLossBackward>)\n",
      "80   tensor(0.6987, device='cuda:0', grad_fn=<NllLossBackward>)\n",
      "81   tensor(0.6921, device='cuda:0', grad_fn=<NllLossBackward>)\n",
      "82   tensor(0.7055, device='cuda:0', grad_fn=<NllLossBackward>)\n",
      "83   tensor(0.6934, device='cuda:0', grad_fn=<NllLossBackward>)\n",
      "84   tensor(0.6900, device='cuda:0', grad_fn=<NllLossBackward>)\n",
      "85   tensor(0.6676, device='cuda:0', grad_fn=<NllLossBackward>)\n",
      "86   tensor(0.6818, device='cuda:0', grad_fn=<NllLossBackward>)\n",
      "87   tensor(0.6823, device='cuda:0', grad_fn=<NllLossBackward>)\n",
      "88   tensor(0.6852, device='cuda:0', grad_fn=<NllLossBackward>)\n",
      "89   tensor(0.6741, device='cuda:0', grad_fn=<NllLossBackward>)\n",
      "90   tensor(0.7011, device='cuda:0', grad_fn=<NllLossBackward>)\n",
      "91   tensor(0.6807, device='cuda:0', grad_fn=<NllLossBackward>)\n",
      "92   tensor(0.6818, device='cuda:0', grad_fn=<NllLossBackward>)\n",
      "93   tensor(0.6952, device='cuda:0', grad_fn=<NllLossBackward>)\n",
      "94   tensor(0.6916, device='cuda:0', grad_fn=<NllLossBackward>)\n",
      "95   tensor(0.7004, device='cuda:0', grad_fn=<NllLossBackward>)\n",
      "96   tensor(0.6894, device='cuda:0', grad_fn=<NllLossBackward>)\n",
      "97   tensor(0.6999, device='cuda:0', grad_fn=<NllLossBackward>)\n",
      "98   tensor(0.6766, device='cuda:0', grad_fn=<NllLossBackward>)\n",
      "99   tensor(0.6750, device='cuda:0', grad_fn=<NllLossBackward>)\n"
     ]
    }
   ],
   "source": [
    "model.train()\n",
    "for i in range(0,100):\n",
    "    samples = training_data[i]\n",
    "    sample = samples[0].view(1,-1)\n",
    "    sample = sample.cuda()\n",
    "    target = torch.tensor([samples[2]])\n",
    "    target = target.cuda() \n",
    "    \n",
    "    output = model(sample)\n",
    "    optimizer.zero_grad()\n",
    "    loss = loss_fn(output, target)\n",
    "    loss.backward()\n",
    "    print(i,' ',loss)   "
   ]
  },
  {
   "cell_type": "code",
   "execution_count": 33,
   "metadata": {},
   "outputs": [
    {
     "name": "stdout",
     "output_type": "stream",
     "text": [
      "\n",
      "Test set: Average loss: 0.6919, Accuracy: 19/35 (54%)\n",
      "\n"
     ]
    }
   ],
   "source": [
    "model.eval()\n",
    "\n",
    "eval_loss = 0\n",
    "correct = 0\n",
    "with torch.no_grad():\n",
    "    for i in range(100,135):\n",
    "        samples = training_data[i]\n",
    "        sample = samples[0].view(1,-1)\n",
    "        sample = sample.cuda()\n",
    "        target = torch.tensor([samples[2]])\n",
    "        target = target.cuda() \n",
    "        output = model(sample)\n",
    "\n",
    "        eval_loss += loss_fn(output, target)\n",
    "        pred = output.argmax(dim=1, keepdim=True)\n",
    "        correct += pred.eq(target.view_as(pred)).sum().item()\n",
    "eval_loss /= 35\n",
    "print('\\nTest set: Average loss: {:.4f}, Accuracy: {}/{} ({:.0f}%)\\n'.format(\n",
    "    eval_loss, correct, 35,\n",
    "    100. * correct / 35))"
   ]
  }
 ],
 "metadata": {
  "kernelspec": {
   "display_name": "Python 3",
   "language": "python",
   "name": "python3"
  },
  "language_info": {
   "codemirror_mode": {
    "name": "ipython",
    "version": 3
   },
   "file_extension": ".py",
   "mimetype": "text/x-python",
   "name": "python",
   "nbconvert_exporter": "python",
   "pygments_lexer": "ipython3",
   "version": "3.7.4"
  }
 },
 "nbformat": 4,
 "nbformat_minor": 2
}
