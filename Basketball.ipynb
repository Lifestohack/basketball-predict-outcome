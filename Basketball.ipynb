{
 "cells": [
  {
   "cell_type": "markdown",
   "metadata": {},
   "source": [
    "# Basketball challenge"
   ]
  },
  {
   "cell_type": "code",
   "execution_count": 1,
   "metadata": {},
   "outputs": [],
   "source": [
    "from PIL import Image\n",
    "import torch\n",
    "import torchvision\n",
    "from Dataset import Basketball\n",
    "from Dataprocess import Preprocess\n",
    "from modules import LinearNet\n",
    "import random\n",
    "from torch.utils.data import DataLoader\n",
    "%reload_ext autoreload"
   ]
  },
  {
   "cell_type": "markdown",
   "metadata": {},
   "source": [
    "# Image transformation"
   ]
  },
  {
   "cell_type": "code",
   "execution_count": 2,
   "metadata": {},
   "outputs": [],
   "source": [
    "img_transformation = torchvision.transforms.Compose([\n",
    "    torchvision.transforms.Resize((64,48)),\n",
    "    torchvision.transforms.CenterCrop((48,48)),\n",
    "    torchvision.transforms.ToTensor()\n",
    "])"
   ]
  },
  {
   "cell_type": "markdown",
   "metadata": {},
   "source": [
    "\n",
    "# Preprocessing Dataset"
   ]
  },
  {
   "cell_type": "code",
   "execution_count": 3,
   "metadata": {},
   "outputs": [],
   "source": [
    "dataprocess = Preprocess().background_subtractor"
   ]
  },
  {
   "cell_type": "markdown",
   "metadata": {},
   "source": [
    "# Loading Dataset"
   ]
  },
  {
   "cell_type": "code",
   "execution_count": 4,
   "metadata": {},
   "outputs": [],
   "source": [
    "path = \"data\"\n",
    "dataset = Basketball(path, split='training', num_frame = 100, img_transform = img_transformation, dataprocess=dataprocess)\n",
    "trainset, testset = dataset.train_test_split()"
   ]
  },
  {
   "cell_type": "code",
   "execution_count": 5,
   "metadata": {},
   "outputs": [],
   "source": [
    "trainset = DataLoader(trainset, shuffle=True)\n",
    "testset = DataLoader(testset, shuffle=True)"
   ]
  },
  {
   "cell_type": "markdown",
   "metadata": {},
   "source": [
    "# Display Video"
   ]
  },
  {
   "cell_type": "code",
   "execution_count": 6,
   "metadata": {
    "scrolled": true
   },
   "outputs": [],
   "source": [
    "#from IPython import display\n",
    "#import torchvision.transforms.functional as F\n",
    "#sets = DataLoader(dataset)\n",
    "#for batch, target in sets:\n",
    "#    print(\"here is the \",target)\n",
    "#    view1 = batch[0][0]\n",
    "#    for idx, img in enumerate(view1):\n",
    "#        img1 = F.to_pil_image(img)\n",
    "#        display.display(img1.resize((320,240)), Image.NEAREST)\n",
    "#        display.clear_output(wait=True)\n",
    "#    break"
   ]
  },
  {
   "cell_type": "code",
   "execution_count": null,
   "metadata": {},
   "outputs": [],
   "source": []
  },
  {
   "cell_type": "markdown",
   "metadata": {},
   "source": [
    "# CUDA"
   ]
  },
  {
   "cell_type": "code",
   "execution_count": 7,
   "metadata": {},
   "outputs": [],
   "source": [
    "use_cuda = torch.cuda.is_available()\n",
    "device = torch.device(\"cuda:0\" if use_cuda else \"cpu\")\n",
    "#cudnn.benchmark = True"
   ]
  },
  {
   "cell_type": "markdown",
   "metadata": {},
   "source": [
    "# Linear Model"
   ]
  },
  {
   "cell_type": "code",
   "execution_count": 8,
   "metadata": {},
   "outputs": [],
   "source": [
    "#print(dataset[0][0][0].shape)\n",
    "variables = dataset[0][0][0].numel()\n",
    "net = LinearNet(variables, 2) # only 2 classifier hit or miss as output and variables input as parameters\n",
    "#variables"
   ]
  },
  {
   "cell_type": "code",
   "execution_count": 9,
   "metadata": {},
   "outputs": [],
   "source": [
    "optimizer = torch.optim.SGD(net.parameters(),lr=0.001,momentum=0.4, nesterov=True)\n",
    "loss_fn = torch.nn.CrossEntropyLoss().to(device)\n",
    "net = net.to(device)"
   ]
  },
  {
   "cell_type": "code",
   "execution_count": 77,
   "metadata": {},
   "outputs": [],
   "source": [
    "def train(net, trainset):\n",
    "    net.train()\n",
    "    loss_sum = 0\n",
    "    for batch, target in trainset:\n",
    "        #batch is taken only as view1\n",
    "        #change is later for both views\n",
    "        inputs = batch[0][0].view(1,-1).to(device)\n",
    "        target = torch.as_tensor(target).to(device)\n",
    "        output = net(inputs)\n",
    "        net.zero_grad()\n",
    "        l = loss_fn(output, target)\n",
    "        l.backward()\n",
    "        optimizer.step()\n",
    "        loss_sum += l.item()\n",
    "        #print(loss_sum)\n",
    "    print('\\nTrain set: {}, Average loss: {:.4f}\\n'.format(len(trainset), loss_sum))"
   ]
  },
  {
   "cell_type": "code",
   "execution_count": 78,
   "metadata": {},
   "outputs": [],
   "source": [
    " def test(net, testset):\n",
    "    net.eval()\n",
    "    correct = 0\n",
    "    total = 0\n",
    "    loss_sum = 0\n",
    "    with torch.no_grad():\n",
    "        for batch, target in testset:\n",
    "            inputs = batch[0][0].view(1,-1).to(device)\n",
    "            target = torch.as_tensor(target).to(device)\n",
    "            output = net(inputs)\n",
    "            #print(output)\n",
    "            #print(torch.argmax(output))\n",
    "            loss_sum += loss_fn(output,target) / len(testset)\n",
    "            for _, prediction in enumerate(output):\n",
    "                if torch.argmax(prediction) == target:\n",
    "                    correct += 1\n",
    "                total += 1\n",
    "    print('\\nTest set: {}, Average loss: {:.4f}, Accuracy: {}/{} ({:.0f}%)\\n'.format(\n",
    "        len(testset), loss_sum, correct, len(testset), 100. * correct / len(testset)))\n"
   ]
  },
  {
   "cell_type": "code",
   "execution_count": null,
   "metadata": {},
   "outputs": [],
   "source": [
    "epochs = 1\n",
    "for epoch in range(0, epochs):\n",
    "    train(net, trainset)\n",
    "    test(net, testset)"
   ]
  },
  {
   "cell_type": "code",
   "execution_count": null,
   "metadata": {},
   "outputs": [],
   "source": []
  }
 ],
 "metadata": {
  "kernelspec": {
   "display_name": "Python 3",
   "language": "python",
   "name": "python3"
  },
  "language_info": {
   "codemirror_mode": {
    "name": "ipython",
    "version": 3
   },
   "file_extension": ".py",
   "mimetype": "text/x-python",
   "name": "python",
   "nbconvert_exporter": "python",
   "pygments_lexer": "ipython3",
   "version": "3.7.4"
  }
 },
 "nbformat": 4,
 "nbformat_minor": 2
}
