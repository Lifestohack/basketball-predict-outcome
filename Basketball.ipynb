{
 "cells": [
  {
   "cell_type": "markdown",
   "metadata": {},
   "source": [
    "# Basketball challenge"
   ]
  },
  {
   "cell_type": "code",
   "execution_count": 15,
   "metadata": {},
   "outputs": [
    {
     "name": "stdout",
     "output_type": "stream",
     "text": [
      "The autoreload extension is already loaded. To reload it, use:\n",
      "  %reload_ext autoreload\n"
     ]
    }
   ],
   "source": [
    "from PIL import Image\n",
    "import pickle\n",
    "import torch\n",
    "import torchvision\n",
    "import io\n",
    "import os\n",
    "from Dataset import Basketball\n",
    "from Dataprocess import Preprocess\n",
    "%load_ext autoreload"
   ]
  },
  {
   "cell_type": "markdown",
   "metadata": {},
   "source": [
    "# Image transformation"
   ]
  },
  {
   "cell_type": "code",
   "execution_count": 16,
   "metadata": {},
   "outputs": [],
   "source": [
    "img_transformation = torchvision.transforms.Compose([\n",
    "    torchvision.transforms.Resize((64,48)),\n",
    "    torchvision.transforms.CenterCrop((48,48)),\n",
    "    torchvision.transforms.ToTensor()\n",
    "])"
   ]
  },
  {
   "cell_type": "markdown",
   "metadata": {},
   "source": [
    "\n",
    "# Preprocessing Dataset"
   ]
  },
  {
   "cell_type": "code",
   "execution_count": 17,
   "metadata": {},
   "outputs": [],
   "source": [
    "dataprocess = Preprocess().background_subtractor"
   ]
  },
  {
   "cell_type": "markdown",
   "metadata": {},
   "source": [
    "# Loading Dataset"
   ]
  },
  {
   "cell_type": "code",
   "execution_count": 18,
   "metadata": {},
   "outputs": [],
   "source": [
    "path = \"data\"\n",
    "training_data = Basketball(path, split='training', num_frame = 100, img_transform = img_transformation, dataprocess=dataprocess)"
   ]
  },
  {
   "cell_type": "code",
   "execution_count": 37,
   "metadata": {},
   "outputs": [],
   "source": [
    "view1 = training_data.__getitem__(0)[1]"
   ]
  },
  {
   "cell_type": "code",
   "execution_count": 54,
   "metadata": {
    "scrolled": true
   },
   "outputs": [
    {
     "data": {
      "image/png": "[encoded data removed]",
      "text/plain": [
       "<PIL.Image.Image image mode=RGB size=320x240 at 0x2613E136188>"
      ]
     },
     "metadata": {},
     "output_type": "display_data"
    },
    {
     "data": {
      "text/plain": [
       "0"
      ]
     },
     "metadata": {},
     "output_type": "display_data"
    }
   ],
   "source": [
    "from IPython import display\n",
    "import torchvision.transforms.functional as F\n",
    "\n",
    "for index in range(10):\n",
    "    view1 = training_data.__getitem__(index)[0]\n",
    "    for idx, img in enumerate(view1):\n",
    "        img1 = F.to_pil_image(img)\n",
    "        display.display(img1.resize((320,240)), Image.NEAREST)\n",
    "        display.clear_output(wait=True)"
   ]
  },
  {
   "cell_type": "code",
   "execution_count": null,
   "metadata": {},
   "outputs": [],
   "source": [
    "import torchvision.transforms.functional as F\n",
    "save_dir = 'cache/training'\n",
    "for i in range(training_data.__len__()):\n",
    "    sample = training_data.__getitem__(i)\n",
    "    view1_raw = sample[0]\n",
    "    view2_raw = sample[1]\n",
    "    label = sample[2]\n",
    "    view1 = Preprocess().background_subtractor(view1_raw)\n",
    "    view2 = Preprocess().background_subtractor(view2_raw)\n",
    "    \n",
    "    for idx, _ in enumerate(view1):\n",
    "        img1 = F.to_pil_image(view1[idx])\n",
    "        img2 = F.to_pil_image(view2[idx])\n",
    "        savepath = os.path.join(save_dir, label, str(i))\n",
    "        \n",
    "        savept1 = os.path.join(savepath, 'view1')\n",
    "        if not os.path.isdir(savept1):\n",
    "            os.makedirs(savept1)\n",
    "        torch.save(img1, os.path.join(savept1, str(idx)))\n",
    "        \n",
    "        savept2 = os.path.join(savepath, 'view2')\n",
    "        if not os.path.isdir(savept2):\n",
    "            os.makedirs(savept2)\n",
    "        torch.save(img2, os.path.join(savept2, str(idx)))\n",
    "        \n",
    "    print('saved ', i)"
   ]
  },
  {
   "cell_type": "code",
   "execution_count": null,
   "metadata": {},
   "outputs": [],
   "source": [
    "openpath = os.path.join(save_dir, 'hit', '0', 'view1', '0')\n",
    "view1_loaded = torch.load(openpath)\n",
    "img = torchvision.transforms.ToTensor()\n",
    "img1 = img(view1_loaded)\n",
    "img1.shape"
   ]
  },
  {
   "cell_type": "code",
   "execution_count": null,
   "metadata": {},
   "outputs": [],
   "source": [
    "path = \"Processed\"\n",
    "training_data = Basketball(path, split='training', num_frame = 100, img_transform = img_transformation)\n"
   ]
  },
  {
   "cell_type": "code",
   "execution_count": null,
   "metadata": {},
   "outputs": [],
   "source": [
    "view1.shape"
   ]
  },
  {
   "cell_type": "code",
   "execution_count": null,
   "metadata": {},
   "outputs": [],
   "source": [
    "view1.view(len(view1), -1).shape"
   ]
  },
  {
   "cell_type": "code",
   "execution_count": null,
   "metadata": {},
   "outputs": [],
   "source": [
    "\n"
   ]
  },
  {
   "cell_type": "code",
   "execution_count": null,
   "metadata": {},
   "outputs": [],
   "source": []
  }
 ],
 "metadata": {
  "kernelspec": {
   "display_name": "Python 3",
   "language": "python",
   "name": "python3"
  },
  "language_info": {
   "codemirror_mode": {
    "name": "ipython",
    "version": 3
   },
   "file_extension": ".py",
   "mimetype": "text/x-python",
   "name": "python",
   "nbconvert_exporter": "python",
   "pygments_lexer": "ipython3",
   "version": "3.7.4"
  }
 },
 "nbformat": 4,
 "nbformat_minor": 2
}
