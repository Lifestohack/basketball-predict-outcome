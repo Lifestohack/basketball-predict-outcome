{
 "cells": [
  {
   "cell_type": "markdown",
   "metadata": {},
   "source": [
    "# Basketball challenge"
   ]
  },
  {
   "cell_type": "code",
   "execution_count": 22,
   "metadata": {},
   "outputs": [
    {
     "name": "stdout",
     "output_type": "stream",
     "text": [
      "The autoreload extension is already loaded. To reload it, use:\n",
      "  %reload_ext autoreload\n"
     ]
    }
   ],
   "source": [
    "from PIL import Image\n",
    "import torch\n",
    "import torchvision\n",
    "from Dataset import Basketball\n",
    "from Dataprocess import Preprocess\n",
    "from modules import LinearNet\n",
    "\n",
    "%load_ext autoreload"
   ]
  },
  {
   "cell_type": "markdown",
   "metadata": {},
   "source": [
    "# Image transformation"
   ]
  },
  {
   "cell_type": "code",
   "execution_count": 23,
   "metadata": {},
   "outputs": [],
   "source": [
    "img_transformation = torchvision.transforms.Compose([\n",
    "    torchvision.transforms.Resize((64,48)),\n",
    "    torchvision.transforms.CenterCrop((48,48)),\n",
    "    torchvision.transforms.ToTensor()\n",
    "])"
   ]
  },
  {
   "cell_type": "markdown",
   "metadata": {},
   "source": [
    "\n",
    "# Preprocessing Dataset"
   ]
  },
  {
   "cell_type": "code",
   "execution_count": 24,
   "metadata": {},
   "outputs": [],
   "source": [
    "dataprocess = Preprocess().background_subtractor"
   ]
  },
  {
   "cell_type": "markdown",
   "metadata": {},
   "source": [
    "# Loading Dataset"
   ]
  },
  {
   "cell_type": "code",
   "execution_count": 25,
   "metadata": {},
   "outputs": [],
   "source": [
    "path = \"data\"\n",
    "dataset = Basketball(path, split='training', num_frame = 100, img_transform = img_transformation, dataprocess=dataprocess)"
   ]
  },
  {
   "cell_type": "markdown",
   "metadata": {},
   "source": [
    "# Display Video"
   ]
  },
  {
   "cell_type": "code",
   "execution_count": null,
   "metadata": {
    "scrolled": true
   },
   "outputs": [],
   "source": [
    "from IPython import display\n",
    "import torchvision.transforms.functional as F\n",
    "view1 = dataset.__getitem__(0)[1]\n",
    "for index in range(1):\n",
    "    view1 = dataset.__getitem__(index)[0]\n",
    "    for idx, img in enumerate(view1):\n",
    "        img1 = F.to_pil_image(img)\n",
    "        display.display(img1.resize((320,240)), Image.NEAREST)\n",
    "        display.clear_output(wait=True)"
   ]
  },
  {
   "cell_type": "markdown",
   "metadata": {},
   "source": [
    "# Linear Model"
   ]
  },
  {
   "cell_type": "code",
   "execution_count": 26,
   "metadata": {},
   "outputs": [],
   "source": [
    "variables = dataset[0][0].numel()\n",
    "model = LinearNet(variables, 2)"
   ]
  },
  {
   "cell_type": "code",
   "execution_count": 27,
   "metadata": {},
   "outputs": [],
   "source": [
    "optimizer = torch.optim.SGD(model.parameters(),lr=0.001,momentum=0.4, nesterov=True)\n",
    "loss_fn = torch.nn.CrossEntropyLoss().cuda()\n",
    "model = model.cuda()"
   ]
  },
  {
   "cell_type": "code",
   "execution_count": 33,
   "metadata": {},
   "outputs": [],
   "source": [
    "def train(model, dataset):\n",
    "    model.train()\n",
    "    for i in range(0,100):\n",
    "        samples = dataset[i]\n",
    "        sample = samples[0].view(1,-1)\n",
    "        sample = sample.cuda()\n",
    "        target = torch.tensor([samples[2]])\n",
    "        target = target.cuda() \n",
    "\n",
    "        output = model(sample)\n",
    "        optimizer.zero_grad()\n",
    "        loss = loss_fn(output, target)\n",
    "        loss.backward()\n",
    "        print(i,' ',loss)   "
   ]
  },
  {
   "cell_type": "code",
   "execution_count": 32,
   "metadata": {},
   "outputs": [],
   "source": [
    " def evaluate(model, dataset):\n",
    "    model.eval()\n",
    "    eval_loss = 0\n",
    "    correct = 0\n",
    "    with torch.no_grad():\n",
    "        for i in range(100,135):\n",
    "            samples = dataset[i]\n",
    "            sample = samples[0].view(1,-1)\n",
    "            sample = sample.cuda()\n",
    "            target = torch.tensor([samples[2]])\n",
    "            target = target.cuda() \n",
    "            output = model(sample)\n",
    "\n",
    "            eval_loss += loss_fn(output, target)\n",
    "            pred = output.argmax(dim=1, keepdim=True)\n",
    "            correct += pred.eq(target.view_as(pred)).sum().item()\n",
    "    eval_loss /= 35\n",
    "    print('\\nTest set: Average loss: {:.4f}, Accuracy: {}/{} ({:.0f}%)\\n'.format(\n",
    "        eval_loss, correct, 35,\n",
    "        100. * correct / 35))"
   ]
  },
  {
   "cell_type": "code",
   "execution_count": 34,
   "metadata": {},
   "outputs": [
    {
     "name": "stdout",
     "output_type": "stream",
     "text": [
      "0   tensor(0.6778, device='cuda:0', grad_fn=<NllLossBackward>)\n",
      "1   tensor(0.6945, device='cuda:0', grad_fn=<NllLossBackward>)\n",
      "2   tensor(0.7014, device='cuda:0', grad_fn=<NllLossBackward>)\n",
      "3   tensor(0.6741, device='cuda:0', grad_fn=<NllLossBackward>)\n",
      "4   tensor(0.6947, device='cuda:0', grad_fn=<NllLossBackward>)\n",
      "5   tensor(0.6953, device='cuda:0', grad_fn=<NllLossBackward>)\n",
      "6   tensor(0.6961, device='cuda:0', grad_fn=<NllLossBackward>)\n",
      "7   tensor(0.7196, device='cuda:0', grad_fn=<NllLossBackward>)\n",
      "8   tensor(0.7269, device='cuda:0', grad_fn=<NllLossBackward>)\n",
      "9   tensor(0.6710, device='cuda:0', grad_fn=<NllLossBackward>)\n",
      "10   tensor(0.7147, device='cuda:0', grad_fn=<NllLossBackward>)\n",
      "11   tensor(0.7128, device='cuda:0', grad_fn=<NllLossBackward>)\n",
      "12   tensor(0.6869, device='cuda:0', grad_fn=<NllLossBackward>)\n",
      "13   tensor(0.6894, device='cuda:0', grad_fn=<NllLossBackward>)\n",
      "14   tensor(0.7029, device='cuda:0', grad_fn=<NllLossBackward>)\n",
      "15   tensor(0.6937, device='cuda:0', grad_fn=<NllLossBackward>)\n",
      "16   tensor(0.6976, device='cuda:0', grad_fn=<NllLossBackward>)\n",
      "17   tensor(0.7248, device='cuda:0', grad_fn=<NllLossBackward>)\n",
      "18   tensor(0.6554, device='cuda:0', grad_fn=<NllLossBackward>)\n",
      "19   tensor(0.6833, device='cuda:0', grad_fn=<NllLossBackward>)\n",
      "20   tensor(0.7078, device='cuda:0', grad_fn=<NllLossBackward>)\n",
      "21   tensor(0.7066, device='cuda:0', grad_fn=<NllLossBackward>)\n",
      "22   tensor(0.6834, device='cuda:0', grad_fn=<NllLossBackward>)\n",
      "23   tensor(0.6621, device='cuda:0', grad_fn=<NllLossBackward>)\n",
      "24   tensor(0.6896, device='cuda:0', grad_fn=<NllLossBackward>)\n",
      "25   tensor(0.6703, device='cuda:0', grad_fn=<NllLossBackward>)\n",
      "26   tensor(0.7183, device='cuda:0', grad_fn=<NllLossBackward>)\n",
      "27   tensor(0.7001, device='cuda:0', grad_fn=<NllLossBackward>)\n",
      "28   tensor(0.7108, device='cuda:0', grad_fn=<NllLossBackward>)\n",
      "29   tensor(0.6729, device='cuda:0', grad_fn=<NllLossBackward>)\n",
      "30   tensor(0.6896, device='cuda:0', grad_fn=<NllLossBackward>)\n",
      "31   tensor(0.7029, device='cuda:0', grad_fn=<NllLossBackward>)\n",
      "32   tensor(0.6720, device='cuda:0', grad_fn=<NllLossBackward>)\n",
      "33   tensor(0.7209, device='cuda:0', grad_fn=<NllLossBackward>)\n",
      "34   tensor(0.7150, device='cuda:0', grad_fn=<NllLossBackward>)\n",
      "35   tensor(0.6959, device='cuda:0', grad_fn=<NllLossBackward>)\n",
      "36   tensor(0.7107, device='cuda:0', grad_fn=<NllLossBackward>)\n",
      "37   tensor(0.7022, device='cuda:0', grad_fn=<NllLossBackward>)\n",
      "38   tensor(0.7153, device='cuda:0', grad_fn=<NllLossBackward>)\n",
      "39   tensor(0.6956, device='cuda:0', grad_fn=<NllLossBackward>)\n",
      "40   tensor(0.7087, device='cuda:0', grad_fn=<NllLossBackward>)\n",
      "41   tensor(0.7061, device='cuda:0', grad_fn=<NllLossBackward>)\n",
      "42   tensor(0.6921, device='cuda:0', grad_fn=<NllLossBackward>)\n",
      "43   tensor(0.7230, device='cuda:0', grad_fn=<NllLossBackward>)\n",
      "44   tensor(0.6895, device='cuda:0', grad_fn=<NllLossBackward>)\n",
      "45   tensor(0.6976, device='cuda:0', grad_fn=<NllLossBackward>)\n",
      "46   tensor(0.6838, device='cuda:0', grad_fn=<NllLossBackward>)\n",
      "47   tensor(0.7223, device='cuda:0', grad_fn=<NllLossBackward>)\n",
      "48   tensor(0.7172, device='cuda:0', grad_fn=<NllLossBackward>)\n",
      "49   tensor(0.6758, device='cuda:0', grad_fn=<NllLossBackward>)\n",
      "50   tensor(0.6914, device='cuda:0', grad_fn=<NllLossBackward>)\n",
      "51   tensor(0.7222, device='cuda:0', grad_fn=<NllLossBackward>)\n",
      "52   tensor(0.7013, device='cuda:0', grad_fn=<NllLossBackward>)\n",
      "53   tensor(0.6857, device='cuda:0', grad_fn=<NllLossBackward>)\n",
      "54   tensor(0.6996, device='cuda:0', grad_fn=<NllLossBackward>)\n",
      "55   tensor(0.7154, device='cuda:0', grad_fn=<NllLossBackward>)\n",
      "56   tensor(0.6892, device='cuda:0', grad_fn=<NllLossBackward>)\n",
      "57   tensor(0.7018, device='cuda:0', grad_fn=<NllLossBackward>)\n",
      "58   tensor(0.6826, device='cuda:0', grad_fn=<NllLossBackward>)\n",
      "59   tensor(0.6943, device='cuda:0', grad_fn=<NllLossBackward>)\n",
      "60   tensor(0.6992, device='cuda:0', grad_fn=<NllLossBackward>)\n",
      "61   tensor(0.6932, device='cuda:0', grad_fn=<NllLossBackward>)\n",
      "62   tensor(0.6725, device='cuda:0', grad_fn=<NllLossBackward>)\n",
      "63   tensor(0.7063, device='cuda:0', grad_fn=<NllLossBackward>)\n",
      "64   tensor(0.7098, device='cuda:0', grad_fn=<NllLossBackward>)\n",
      "65   tensor(0.6967, device='cuda:0', grad_fn=<NllLossBackward>)\n",
      "66   tensor(0.6849, device='cuda:0', grad_fn=<NllLossBackward>)\n",
      "67   tensor(0.6941, device='cuda:0', grad_fn=<NllLossBackward>)\n",
      "68   tensor(0.7230, device='cuda:0', grad_fn=<NllLossBackward>)\n",
      "69   tensor(0.6894, device='cuda:0', grad_fn=<NllLossBackward>)\n",
      "70   tensor(0.7137, device='cuda:0', grad_fn=<NllLossBackward>)\n",
      "71   tensor(0.6935, device='cuda:0', grad_fn=<NllLossBackward>)\n",
      "72   tensor(0.6840, device='cuda:0', grad_fn=<NllLossBackward>)\n",
      "73   tensor(0.6849, device='cuda:0', grad_fn=<NllLossBackward>)\n",
      "74   tensor(0.7168, device='cuda:0', grad_fn=<NllLossBackward>)\n",
      "75   tensor(0.7315, device='cuda:0', grad_fn=<NllLossBackward>)\n",
      "76   tensor(0.6914, device='cuda:0', grad_fn=<NllLossBackward>)\n",
      "77   tensor(0.6870, device='cuda:0', grad_fn=<NllLossBackward>)\n",
      "78   tensor(0.6890, device='cuda:0', grad_fn=<NllLossBackward>)\n",
      "79   tensor(0.7060, device='cuda:0', grad_fn=<NllLossBackward>)\n",
      "80   tensor(0.7154, device='cuda:0', grad_fn=<NllLossBackward>)\n",
      "81   tensor(0.6923, device='cuda:0', grad_fn=<NllLossBackward>)\n",
      "82   tensor(0.6921, device='cuda:0', grad_fn=<NllLossBackward>)\n",
      "83   tensor(0.6791, device='cuda:0', grad_fn=<NllLossBackward>)\n",
      "84   tensor(0.6875, device='cuda:0', grad_fn=<NllLossBackward>)\n",
      "85   tensor(0.6720, device='cuda:0', grad_fn=<NllLossBackward>)\n",
      "86   tensor(0.6979, device='cuda:0', grad_fn=<NllLossBackward>)\n",
      "87   tensor(0.6960, device='cuda:0', grad_fn=<NllLossBackward>)\n",
      "88   tensor(0.7011, device='cuda:0', grad_fn=<NllLossBackward>)\n",
      "89   tensor(0.6826, device='cuda:0', grad_fn=<NllLossBackward>)\n",
      "90   tensor(0.7098, device='cuda:0', grad_fn=<NllLossBackward>)\n",
      "91   tensor(0.6765, device='cuda:0', grad_fn=<NllLossBackward>)\n",
      "92   tensor(0.6778, device='cuda:0', grad_fn=<NllLossBackward>)\n",
      "93   tensor(0.6902, device='cuda:0', grad_fn=<NllLossBackward>)\n",
      "94   tensor(0.6772, device='cuda:0', grad_fn=<NllLossBackward>)\n",
      "95   tensor(0.6788, device='cuda:0', grad_fn=<NllLossBackward>)\n",
      "96   tensor(0.6792, device='cuda:0', grad_fn=<NllLossBackward>)\n",
      "97   tensor(0.6815, device='cuda:0', grad_fn=<NllLossBackward>)\n",
      "98   tensor(0.6949, device='cuda:0', grad_fn=<NllLossBackward>)\n",
      "99   tensor(0.6744, device='cuda:0', grad_fn=<NllLossBackward>)\n"
     ]
    },
    {
     "ename": "NameError",
     "evalue": "name 'test' is not defined",
     "output_type": "error",
     "traceback": [
      "\u001b[1;31m---------------------------------------------------------------------------\u001b[0m",
      "\u001b[1;31mNameError\u001b[0m                                 Traceback (most recent call last)",
      "\u001b[1;32m<ipython-input-34-1e54a6f0711a>\u001b[0m in \u001b[0;36m<module>\u001b[1;34m\u001b[0m\n\u001b[0;32m      2\u001b[0m \u001b[1;32mfor\u001b[0m \u001b[0mepoch\u001b[0m \u001b[1;32min\u001b[0m \u001b[0mrange\u001b[0m\u001b[1;33m(\u001b[0m\u001b[1;36m1\u001b[0m\u001b[1;33m,\u001b[0m \u001b[0mepochs\u001b[0m\u001b[1;33m+\u001b[0m\u001b[1;36m1\u001b[0m\u001b[1;33m)\u001b[0m\u001b[1;33m:\u001b[0m\u001b[1;33m\u001b[0m\u001b[1;33m\u001b[0m\u001b[0m\n\u001b[0;32m      3\u001b[0m     \u001b[0mtrain\u001b[0m\u001b[1;33m(\u001b[0m\u001b[0mmodel\u001b[0m\u001b[1;33m,\u001b[0m \u001b[0mdataset\u001b[0m\u001b[1;33m)\u001b[0m\u001b[1;33m\u001b[0m\u001b[1;33m\u001b[0m\u001b[0m\n\u001b[1;32m----> 4\u001b[1;33m     \u001b[0mtest\u001b[0m\u001b[1;33m(\u001b[0m\u001b[0mmodel\u001b[0m\u001b[1;33m,\u001b[0m \u001b[0mdataset\u001b[0m\u001b[1;33m)\u001b[0m\u001b[1;33m\u001b[0m\u001b[1;33m\u001b[0m\u001b[0m\n\u001b[0m",
      "\u001b[1;31mNameError\u001b[0m: name 'test' is not defined"
     ]
    }
   ],
   "source": [
    "epochs = 10\n",
    "for epoch in range(1, epochs+1):\n",
    "    train(model, dataset)\n",
    "    evaluate(model, dataset)"
   ]
  }
 ],
 "metadata": {
  "kernelspec": {
   "display_name": "Python 3",
   "language": "python",
   "name": "python3"
  },
  "language_info": {
   "codemirror_mode": {
    "name": "ipython",
    "version": 3
   },
   "file_extension": ".py",
   "mimetype": "text/x-python",
   "name": "python",
   "nbconvert_exporter": "python",
   "pygments_lexer": "ipython3",
   "version": "3.7.4"
  }
 },
 "nbformat": 4,
 "nbformat_minor": 2
}
