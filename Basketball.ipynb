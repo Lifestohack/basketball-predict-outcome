{
 "cells": [
  {
   "cell_type": "markdown",
   "metadata": {},
   "source": [
    "# Basketball challenge"
   ]
  },
  {
   "cell_type": "code",
   "execution_count": 1,
   "metadata": {},
   "outputs": [],
   "source": [
    "from PIL import Image\n",
    "import torch\n",
    "import torchvision\n",
    "from Dataset import Basketball\n",
    "from Dataprocess import Preprocess\n",
    "from modules import LinearNet\n",
    "import random\n",
    "from torch.utils.data import DataLoader\n",
    "%reload_ext autoreload"
   ]
  },
  {
   "cell_type": "markdown",
   "metadata": {},
   "source": [
    "# Image transformation"
   ]
  },
  {
   "cell_type": "code",
   "execution_count": 2,
   "metadata": {},
   "outputs": [],
   "source": [
    "img_transformation = torchvision.transforms.Compose([\n",
    "    torchvision.transforms.Resize((64,48)),\n",
    "    torchvision.transforms.CenterCrop((48,48)),\n",
    "    torchvision.transforms.ToTensor()\n",
    "])"
   ]
  },
  {
   "cell_type": "markdown",
   "metadata": {},
   "source": [
    "\n",
    "# Preprocessing Dataset"
   ]
  },
  {
   "cell_type": "code",
   "execution_count": 3,
   "metadata": {},
   "outputs": [],
   "source": [
    "dataprocess = Preprocess().background_subtractor"
   ]
  },
  {
   "cell_type": "markdown",
   "metadata": {},
   "source": [
    "# Loading Dataset"
   ]
  },
  {
   "cell_type": "code",
   "execution_count": 4,
   "metadata": {},
   "outputs": [],
   "source": [
    "path = \"data\"\n",
    "dataset = Basketball(path, split='training', num_frame = 100, img_transform = img_transformation, dataprocess=dataprocess)\n",
    "trainset, testset = dataset.train_test_split()"
   ]
  },
  {
   "cell_type": "code",
   "execution_count": 5,
   "metadata": {},
   "outputs": [],
   "source": [
    "trainset = DataLoader(trainset, shuffle=True)\n",
    "testset = DataLoader(testset, shuffle=True)"
   ]
  },
  {
   "cell_type": "markdown",
   "metadata": {},
   "source": [
    "# Display Video"
   ]
  },
  {
   "cell_type": "code",
   "execution_count": null,
   "metadata": {
    "scrolled": true
   },
   "outputs": [],
   "source": [
    "from IPython import display\n",
    "import torchvision.transforms.functional as F\n",
    "view1 = dataset.__getitem__(0)[1]\n",
    "for index in range(1):\n",
    "    view1 = dataset.__getitem__(index)[0]\n",
    "    for idx, img in enumerate(view1):\n",
    "        img1 = F.to_pil_image(img)\n",
    "        display.display(img1.resize((320,240)), Image.NEAREST)\n",
    "        display.clear_output(wait=True)"
   ]
  },
  {
   "cell_type": "markdown",
   "metadata": {},
   "source": [
    "# CUDA"
   ]
  },
  {
   "cell_type": "code",
   "execution_count": 6,
   "metadata": {},
   "outputs": [],
   "source": [
    "use_cuda = torch.cuda.is_available()\n",
    "device = torch.device(\"cuda:0\" if use_cuda else \"cpu\")\n",
    "#cudnn.benchmark = True"
   ]
  },
  {
   "cell_type": "markdown",
   "metadata": {},
   "source": [
    "# Linear Model"
   ]
  },
  {
   "cell_type": "code",
   "execution_count": 13,
   "metadata": {},
   "outputs": [
    {
     "name": "stdout",
     "output_type": "stream",
     "text": [
      "torch.Size([100, 3, 48, 48])\n"
     ]
    },
    {
     "data": {
      "text/plain": [
       "691200"
      ]
     },
     "execution_count": 13,
     "metadata": {},
     "output_type": "execute_result"
    }
   ],
   "source": [
    "print(dataset[0][0][0].shape)\n",
    "variables = dataset[0][0][0].numel()\n",
    "net = LinearNet(variables, 2) # only 2 classifier hit or miss as output and variables input as parameters\n",
    "variables"
   ]
  },
  {
   "cell_type": "code",
   "execution_count": 14,
   "metadata": {},
   "outputs": [],
   "source": [
    "optimizer = torch.optim.SGD(net.parameters(),lr=0.001,momentum=0.4, nesterov=True)\n",
    "loss_fn = torch.nn.CrossEntropyLoss().to(device)\n",
    "net = net.to(device)"
   ]
  },
  {
   "cell_type": "code",
   "execution_count": 32,
   "metadata": {},
   "outputs": [],
   "source": [
    "def train(net, trainset):\n",
    "    net.train()\n",
    "    for batch, target in trainset:\n",
    "        #batch is taken only as view1\n",
    "        #change is later for both views\n",
    "        inputs = batch[0][0].view(1,-1).to(device)\n",
    "        target = torch.as_tensor(target).to(device)\n",
    "        output = net(inputs)\n",
    "        optimizer.zero_grad()\n",
    "        l = loss_fn(output, target)\n",
    "        l.backward()\n",
    "        #print(l)   "
   ]
  },
  {
   "cell_type": "code",
   "execution_count": 33,
   "metadata": {},
   "outputs": [],
   "source": [
    " def test(net, testset):\n",
    "    net.eval()\n",
    "    eval_loss = 0\n",
    "    correct = 0\n",
    "    with torch.no_grad():\n",
    "        for batch, target in testset:\n",
    "            inputs = batch[0][0].view(1,-1).to(device)\n",
    "            target = torch.as_tensor(target).to(device)\n",
    "            output = net(inputs)\n",
    "\n",
    "            eval_loss += loss_fn(output, target)\n",
    "            pred = output.argmax(dim=1, keepdim=True)\n",
    "            correct += pred.eq(target.view_as(pred)).sum().item()\n",
    "    eval_loss /= 35\n",
    "    print('\\nTest set: Average loss: {:.4f}, Accuracy: {}/{} ({:.0f}%)\\n'.format(\n",
    "        eval_loss, correct, len(testset),\n",
    "        100. * correct / len(testset)))"
   ]
  },
  {
   "cell_type": "code",
   "execution_count": 34,
   "metadata": {},
   "outputs": [
    {
     "name": "stdout",
     "output_type": "stream",
     "text": [
      "\n",
      "Test set: Average loss: 0.5533, Accuracy: 16/28 (57%)\n",
      "\n",
      "\n",
      "Test set: Average loss: 0.5533, Accuracy: 16/28 (57%)\n",
      "\n",
      "\n",
      "Test set: Average loss: 0.5533, Accuracy: 16/28 (57%)\n",
      "\n",
      "\n",
      "Test set: Average loss: 0.5533, Accuracy: 16/28 (57%)\n",
      "\n",
      "\n",
      "Test set: Average loss: 0.5533, Accuracy: 16/28 (57%)\n",
      "\n",
      "\n",
      "Test set: Average loss: 0.5533, Accuracy: 16/28 (57%)\n",
      "\n",
      "\n",
      "Test set: Average loss: 0.5533, Accuracy: 16/28 (57%)\n",
      "\n",
      "\n",
      "Test set: Average loss: 0.5533, Accuracy: 16/28 (57%)\n",
      "\n",
      "\n",
      "Test set: Average loss: 0.5533, Accuracy: 16/28 (57%)\n",
      "\n",
      "\n",
      "Test set: Average loss: 0.5533, Accuracy: 16/28 (57%)\n",
      "\n"
     ]
    }
   ],
   "source": [
    "epochs = 10\n",
    "for epoch in range(1, epochs+1):\n",
    "    train(net, trainset)\n",
    "    test(net, testset)"
   ]
  }
 ],
 "metadata": {
  "kernelspec": {
   "display_name": "Python 3",
   "language": "python",
   "name": "python3"
  },
  "language_info": {
   "codemirror_mode": {
    "name": "ipython",
    "version": 3
   },
   "file_extension": ".py",
   "mimetype": "text/x-python",
   "name": "python",
   "nbconvert_exporter": "python",
   "pygments_lexer": "ipython3",
   "version": "3.7.4"
  }
 },
 "nbformat": 4,
 "nbformat_minor": 2
}
